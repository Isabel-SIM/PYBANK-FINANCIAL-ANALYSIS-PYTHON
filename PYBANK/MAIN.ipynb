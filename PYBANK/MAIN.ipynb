{
 "cells": [
  {
   "cell_type": "code",
   "execution_count": 6,
   "id": "1404c4b8-0fd1-4312-916d-8000e12bf697",
   "metadata": {
    "tags": []
   },
   "outputs": [],
   "source": [
    "#import\n",
    "\n",
    "import os\n",
    "import csv"
   ]
  },
  {
   "cell_type": "code",
   "execution_count": 7,
   "id": "e86dc7c6-a5c2-46d9-aaa1-64fd0ea304a0",
   "metadata": {
    "tags": []
   },
   "outputs": [
    {
     "data": {
      "text/html": [
       "<div>\n",
       "<style scoped>\n",
       "    .dataframe tbody tr th:only-of-type {\n",
       "        vertical-align: middle;\n",
       "    }\n",
       "\n",
       "    .dataframe tbody tr th {\n",
       "        vertical-align: top;\n",
       "    }\n",
       "\n",
       "    .dataframe thead th {\n",
       "        text-align: right;\n",
       "    }\n",
       "</style>\n",
       "<table border=\"1\" class=\"dataframe\">\n",
       "  <thead>\n",
       "    <tr style=\"text-align: right;\">\n",
       "      <th></th>\n",
       "      <th>Date</th>\n",
       "      <th>Profit/Losses</th>\n",
       "    </tr>\n",
       "  </thead>\n",
       "  <tbody>\n",
       "    <tr>\n",
       "      <th>0</th>\n",
       "      <td>Jan-2010</td>\n",
       "      <td>867884</td>\n",
       "    </tr>\n",
       "    <tr>\n",
       "      <th>1</th>\n",
       "      <td>Feb-2010</td>\n",
       "      <td>984655</td>\n",
       "    </tr>\n",
       "    <tr>\n",
       "      <th>2</th>\n",
       "      <td>Mar-2010</td>\n",
       "      <td>322013</td>\n",
       "    </tr>\n",
       "    <tr>\n",
       "      <th>3</th>\n",
       "      <td>Apr-2010</td>\n",
       "      <td>-69417</td>\n",
       "    </tr>\n",
       "    <tr>\n",
       "      <th>4</th>\n",
       "      <td>May-2010</td>\n",
       "      <td>310503</td>\n",
       "    </tr>\n",
       "    <tr>\n",
       "      <th>...</th>\n",
       "      <td>...</td>\n",
       "      <td>...</td>\n",
       "    </tr>\n",
       "    <tr>\n",
       "      <th>81</th>\n",
       "      <td>Oct-2016</td>\n",
       "      <td>102685</td>\n",
       "    </tr>\n",
       "    <tr>\n",
       "      <th>82</th>\n",
       "      <td>Nov-2016</td>\n",
       "      <td>795914</td>\n",
       "    </tr>\n",
       "    <tr>\n",
       "      <th>83</th>\n",
       "      <td>Dec-2016</td>\n",
       "      <td>60988</td>\n",
       "    </tr>\n",
       "    <tr>\n",
       "      <th>84</th>\n",
       "      <td>Jan-2017</td>\n",
       "      <td>138230</td>\n",
       "    </tr>\n",
       "    <tr>\n",
       "      <th>85</th>\n",
       "      <td>Feb-2017</td>\n",
       "      <td>671099</td>\n",
       "    </tr>\n",
       "  </tbody>\n",
       "</table>\n",
       "<p>86 rows × 2 columns</p>\n",
       "</div>"
      ],
      "text/plain": [
       "        Date  Profit/Losses\n",
       "0   Jan-2010         867884\n",
       "1   Feb-2010         984655\n",
       "2   Mar-2010         322013\n",
       "3   Apr-2010         -69417\n",
       "4   May-2010         310503\n",
       "..       ...            ...\n",
       "81  Oct-2016         102685\n",
       "82  Nov-2016         795914\n",
       "83  Dec-2016          60988\n",
       "84  Jan-2017         138230\n",
       "85  Feb-2017         671099\n",
       "\n",
       "[86 rows x 2 columns]"
      ]
     },
     "execution_count": 7,
     "metadata": {},
     "output_type": "execute_result"
    }
   ],
   "source": [
    "# Set the file path for the data\n",
    "\n",
    "import pandas as pd\n",
    "relative_path = \"./budget_data.csv\"\n",
    "pd.read_csv(relative_path)"
   ]
  },
  {
   "cell_type": "code",
   "execution_count": 8,
   "id": "eced14c0-12e7-4f6e-b9c8-4d7e70db79d1",
   "metadata": {
    "tags": []
   },
   "outputs": [],
   "source": [
    "# Set up the input and output file paths\n",
    "\n",
    "input_file = \"./budget_data.csv\"\n",
    "output_file = \"./budget_analysis.txt\""
   ]
  },
  {
   "cell_type": "code",
   "execution_count": 9,
   "id": "f256286a-70d9-41c3-a12c-5c93185c0413",
   "metadata": {
    "tags": []
   },
   "outputs": [],
   "source": [
    "# Initiate variables\n",
    "\n",
    "total_months = 0\n",
    "net_total = 0\n",
    "prev_profit = 0\n",
    "profit_changes = []\n",
    "greatest_increase = ['', 0]\n",
    "greatest_decrease = ['', 9999999999999999999]"
   ]
  },
  {
   "cell_type": "code",
   "execution_count": 10,
   "id": "38b9b28a-ceed-4935-a854-4948948838ea",
   "metadata": {
    "tags": []
   },
   "outputs": [],
   "source": [
    "# Read in the CSV file\n",
    "\n",
    "with open(\"./budget_data.csv\") as csvfile:\n",
    "    csvreader = csv.reader(csvfile, delimiter=\",\")\n",
    "  \n",
    " # read the header row\n",
    "    header = next(csvreader)\n",
    "    \n",
    "    # loop through the rows\n",
    "    for row in csvreader:\n",
    "        \n",
    "        # count the total number of months\n",
    "        total_months += 1\n",
    "        \n",
    "        # calculate the net total of profit and losses\n",
    "        net_total += int(row[1])\n",
    "        \n",
    " # calculate the change in profit and losses\n",
    "\n",
    "        if total_months > 1:\n",
    "            profit_change = int(row[1]) - prev_profit\n",
    "            profit_changes.append(profit_change)\n",
    "            \n",
    "            # find the greatest increase in profits\n",
    "            if profit_change > greatest_increase[1]:\n",
    "                greatest_increase[0] = row[0]\n",
    "                greatest_increase[1] = profit_change\n",
    "                \n",
    "            # find the greatest decrease in losses\n",
    "            if profit_change < greatest_decrease[1]:\n",
    "                greatest_decrease[0] = row[0]\n",
    "                greatest_decrease[1] = profit_change\n",
    "                \n",
    "        # set the previous profit to the current profit for the next iteration\n",
    "        \n",
    "        prev_profit = int(row[1])"
   ]
  },
  {
   "cell_type": "code",
   "execution_count": 11,
   "id": "da43f048-f726-409d-bd3d-da8f8dab611e",
   "metadata": {
    "tags": []
   },
   "outputs": [],
   "source": [
    "# calculate the average change in profit and losses\n",
    "average_change = sum(profit_changes) / len(profit_changes)\n",
    "\n",
    "# format the results for printing\n",
    "\n",
    "results = f\"\"\"Financial Analysis\n",
    "----------------------------\n",
    "Total Months: {total_months}\n",
    "Total: ${net_total}\n",
    "Average  Change: ${round(average_change, 2)}\n",
    "Greatest Increase in Profits: {greatest_increase[0]} (${greatest_increase[1]})\n",
    "Greatest Decrease in Profits: {greatest_decrease[0]} (${greatest_decrease[1]})\"\"\""
   ]
  },
  {
   "cell_type": "code",
   "execution_count": 12,
   "id": "1bd6d041-e6f7-490f-b731-82c84f8c7c06",
   "metadata": {
    "tags": []
   },
   "outputs": [
    {
     "name": "stdout",
     "output_type": "stream",
     "text": [
      "Financial Analysis\n",
      "----------------------------\n",
      "Total Months: 86\n",
      "Total: $38382578\n",
      "Average  Change: $-2315.12\n",
      "Greatest Increase in Profits: Feb-2012 ($1926159)\n",
      "Greatest Decrease in Profits: Sep-2013 ($-2196167)\n"
     ]
    }
   ],
   "source": [
    "# print the results\n",
    "print(results)"
   ]
  },
  {
   "cell_type": "code",
   "execution_count": null,
   "id": "f330e3fa-8890-470e-9160-444c9387882a",
   "metadata": {},
   "outputs": [],
   "source": []
  }
 ],
 "metadata": {
  "kernelspec": {
   "display_name": "Python 3 (ipykernel)",
   "language": "python",
   "name": "python3"
  },
  "language_info": {
   "codemirror_mode": {
    "name": "ipython",
    "version": 3
   },
   "file_extension": ".py",
   "mimetype": "text/x-python",
   "name": "python",
   "nbconvert_exporter": "python",
   "pygments_lexer": "ipython3",
   "version": "3.9.13"
  }
 },
 "nbformat": 4,
 "nbformat_minor": 5
}
